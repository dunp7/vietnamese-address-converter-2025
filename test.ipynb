{
 "cells": [
  {
   "cell_type": "code",
   "execution_count": 1,
   "id": "0244b623",
   "metadata": {},
   "outputs": [
    {
     "name": "stderr",
     "output_type": "stream",
     "text": [
      "2025-09-30 14:55:20.797 WARNING streamlit.runtime.caching.cache_data_api: No runtime found, using MemoryCacheStorageManager\n"
     ]
    },
    {
     "name": "stdout",
     "output_type": "stream",
     "text": [
      "e:\\GMO(Workspace)\\vietnamese-address-converter-2025\\src\\..\\data\n"
     ]
    }
   ],
   "source": [
    "from src.converter import get_new_address\n",
    "import pandas as pd"
   ]
  },
  {
   "cell_type": "code",
   "execution_count": null,
   "id": "e6e29bf6",
   "metadata": {},
   "outputs": [],
   "source": []
  },
  {
   "cell_type": "code",
   "execution_count": null,
   "id": "d50164a3",
   "metadata": {},
   "outputs": [],
   "source": [
    "query_address = \"Phương Mai, Đống Đa, Hà Nội\"\n",
    "mapping_data = pd.read_json('data/ward_mappings.json')\n",
    "\n",
    "newadd, _ = get_new_address(query_address, mapping_data)"
   ]
  },
  {
   "cell_type": "code",
   "execution_count": 4,
   "id": "aaf1b25a",
   "metadata": {},
   "outputs": [
    {
     "data": {
      "text/plain": [
       "[{'score': 3, 'new_address': 'Phường Kim Liên, Thành phố Hà Nội'}]"
      ]
     },
     "execution_count": 4,
     "metadata": {},
     "output_type": "execute_result"
    }
   ],
   "source": [
    "newadd"
   ]
  },
  {
   "cell_type": "code",
   "execution_count": 5,
   "id": "5c522e55",
   "metadata": {},
   "outputs": [
    {
     "data": {
      "text/plain": [
       "{'left_over': [],\n",
       " 'ward': ['phường phương mai', 'xã phương mai', 'thị trấn phương mai'],\n",
       " 'district': ['quận đống đa',\n",
       "  'huyện đống đa',\n",
       "  'thành phố đống đa',\n",
       "  'thị xã đống đa'],\n",
       " 'province': ['thành phố hà nội'],\n",
       " 'input_ward': 'Phương Mai',\n",
       " 'input_district': 'Đống Đa',\n",
       " 'input_province': 'Hà Nội'}"
      ]
     },
     "execution_count": 5,
     "metadata": {},
     "output_type": "execute_result"
    }
   ],
   "source": [
    "oldadd"
   ]
  },
  {
   "cell_type": "code",
   "execution_count": null,
   "id": "5307a9de",
   "metadata": {},
   "outputs": [],
   "source": []
  }
 ],
 "metadata": {
  "kernelspec": {
   "display_name": "Python 3",
   "language": "python",
   "name": "python3"
  },
  "language_info": {
   "codemirror_mode": {
    "name": "ipython",
    "version": 3
   },
   "file_extension": ".py",
   "mimetype": "text/x-python",
   "name": "python",
   "nbconvert_exporter": "python",
   "pygments_lexer": "ipython3",
   "version": "3.12.10"
  }
 },
 "nbformat": 4,
 "nbformat_minor": 5
}
