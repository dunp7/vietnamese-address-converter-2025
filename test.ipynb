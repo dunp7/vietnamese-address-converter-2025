{
 "cells": [
  {
   "cell_type": "code",
   "execution_count": 1,
   "id": "bdd07af8",
   "metadata": {},
   "outputs": [],
   "source": [
    "addresses = [\n",
    "    # 1. Full formal address\n",
    "    \"Số 12, Phường Phương Mai, Quận Đống Đa, Thành phố Hà Nội, Việt Nam\",\n",
    "\n",
    "    # 2. Abbreviated forms\n",
    "    \"P. Phương Mai, Q. Đống Đa, TP. Hà Nội\",\n",
    "    \"P. Phương Mai, Q. Đống Đa, Hà Nội\",\n",
    "\n",
    "    # 3. Without prefix\n",
    "    \"Phương Mai, Đống Đa, Hà Nội\",\n",
    "\n",
    "    # 6. Rural (xã, thôn)\n",
    "    \"Xã Kim Chung, Huyện Đông Anh, Hà Nội\",\n",
    "    \"Thôn Bầu, Xã Kim Chung, Đông Anh, Hà Nội\",\n",
    "\n",
    "    # 7. Thị trấn (township)\n",
    "    \"Thị trấn Trâu Quỳ, Gia Lâm, Hà Nội\",\n",
    "\n",
    "    # 8. Special city (HCM)\n",
    "    \"Phường Bến Nghé, Quận 1, TP. Hồ Chí Minh\",\n",
    "\n",
    "    # 9. Province with 'tỉnh'\n",
    "    \"Phường Kinh Bắc, TP. Bắc Ninh, Tỉnh Bắc Ninh\"]\n"
   ]
  },
  {
   "cell_type": "code",
   "execution_count": 2,
   "id": "0244b623",
   "metadata": {},
   "outputs": [],
   "source": [
    "from utils.converter import get_new_address"
   ]
  },
  {
   "cell_type": "code",
   "execution_count": 4,
   "id": "d50164a3",
   "metadata": {},
   "outputs": [],
   "source": [
    "newadd, oldadd = get_new_address(\"Phương Mai, Đống Đa, Hà Nội\")"
   ]
  },
  {
   "cell_type": "code",
   "execution_count": 5,
   "id": "aaf1b25a",
   "metadata": {},
   "outputs": [
    {
     "data": {
      "text/plain": [
       "[{'score': 3, 'new_address': 'Phường Kim Liên, Thành phố Hà Nội'}]"
      ]
     },
     "execution_count": 5,
     "metadata": {},
     "output_type": "execute_result"
    }
   ],
   "source": [
    "newadd"
   ]
  },
  {
   "cell_type": "code",
   "execution_count": 6,
   "id": "5c522e55",
   "metadata": {},
   "outputs": [
    {
     "data": {
      "text/plain": [
       "{'left_over': [],\n",
       " 'ward': ['phường phương mai', 'xã phương mai', 'thị trấn phương mai'],\n",
       " 'district': ['quận đống đa',\n",
       "  'huyện đống đa',\n",
       "  'thành phố đống đa',\n",
       "  'thị xã đống đa'],\n",
       " 'province': ['thành phố hà nội'],\n",
       " 'input_ward': 'Phương Mai',\n",
       " 'input_district': 'Đống Đa',\n",
       " 'input_province': 'Hà Nội'}"
      ]
     },
     "execution_count": 6,
     "metadata": {},
     "output_type": "execute_result"
    }
   ],
   "source": [
    "oldadd"
   ]
  },
  {
   "cell_type": "code",
   "execution_count": null,
   "id": "5307a9de",
   "metadata": {},
   "outputs": [],
   "source": []
  }
 ],
 "metadata": {
  "kernelspec": {
   "display_name": "Python 3",
   "language": "python",
   "name": "python3"
  },
  "language_info": {
   "codemirror_mode": {
    "name": "ipython",
    "version": 3
   },
   "file_extension": ".py",
   "mimetype": "text/x-python",
   "name": "python",
   "nbconvert_exporter": "python",
   "pygments_lexer": "ipython3",
   "version": "3.12.10"
  }
 },
 "nbformat": 4,
 "nbformat_minor": 5
}
